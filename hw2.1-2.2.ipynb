{
 "cells": [
  {
   "cell_type": "code",
   "execution_count": 27,
   "id": "c141b37a",
   "metadata": {},
   "outputs": [
    {
     "name": "stdout",
     "output_type": "stream",
     "text": [
      "2002-10-02 00:00:00\n",
      "2013-10-11 00:00:00\n",
      "1977-08-18 00:00:00\n"
     ]
    }
   ],
   "source": [
    "import datetime\n",
    "date_time_str = 'Wednesday, October 2, 2002'\n",
    "date_time_str1 = 'Friday, 11.10.13'\n",
    "date_time_str2 = 'Thursday, 18 August 1977'\n",
    "date_time_obj = datetime.datetime.strptime(date_time_str, '%A, %B %d, %Y')\n",
    "date_time_obj1 = datetime.datetime.strptime(date_time_str1, '%A, %d.%m.%y')\n",
    "date_time_obj2 = datetime.datetime.strptime(date_time_str2, '%A, %d %B %Y')\n",
    "print(date_time_obj)\n",
    "print(date_time_obj1)\n",
    "print(date_time_obj2)\n"
   ]
  },
  {
   "cell_type": "code",
   "execution_count": 35,
   "id": "07065623",
   "metadata": {},
   "outputs": [
    {
     "name": "stdout",
     "output_type": "stream",
     "text": [
      "2022-09-01\n",
      "2022-09-05\n",
      "['2022-09-01', '2022-09-02', '2022-09-03', '2022-09-04', '2022-09-05']\n"
     ]
    }
   ],
   "source": [
    "import re\n",
    "import time\n",
    "from datetime import datetime, date, timedelta\n",
    "\n",
    "val_str = []\n",
    "         \n",
    "def date_range(start_date, end_date):\n",
    "    if (end_date < start_date):\n",
    "        return val_str\n",
    "    else:\n",
    "        start_date = datetime.strptime(start_date, \"%Y-%m-%d\")\n",
    "        end_date = datetime.strptime(end_date, \"%Y-%m-%d\")\n",
    "        deltaday = (end_date - start_date).days\n",
    "        for j in range(0, deltaday + 1):\n",
    "            deltadays = start_date + timedelta(days=j)\n",
    "            deltadays = deltadays.date()\n",
    "            val_str.append(str(deltadays))\n",
    "        return(val_str)                \n",
    "\n",
    "d1 = input()\n",
    "d2 = input()\n",
    "try:\n",
    "    date_range(d1, d2)\n",
    "    print(val_str)\n",
    "except ValueError:\n",
    "    print(val_str)\n",
    "    \n",
    "\n",
    "\n",
    "        \n",
    "        "
   ]
  },
  {
   "cell_type": "code",
   "execution_count": null,
   "id": "35bd4964",
   "metadata": {},
   "outputs": [],
   "source": []
  }
 ],
 "metadata": {
  "kernelspec": {
   "display_name": "Python 3 (ipykernel)",
   "language": "python",
   "name": "python3"
  },
  "language_info": {
   "codemirror_mode": {
    "name": "ipython",
    "version": 3
   },
   "file_extension": ".py",
   "mimetype": "text/x-python",
   "name": "python",
   "nbconvert_exporter": "python",
   "pygments_lexer": "ipython3",
   "version": "3.9.13"
  }
 },
 "nbformat": 4,
 "nbformat_minor": 5
}
